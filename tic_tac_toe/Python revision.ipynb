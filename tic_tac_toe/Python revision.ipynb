{
 "cells": [
  {
   "cell_type": "markdown",
   "metadata": {},
   "source": [
    "# <font color=blue>I- Strings</font>"
   ]
  },
  {
   "cell_type": "markdown",
   "metadata": {},
   "source": [
    "### 1.  f string"
   ]
  },
  {
   "cell_type": "markdown",
   "metadata": {},
   "source": [
    "The f string is not available in versions before python3.6"
   ]
  },
  {
   "cell_type": "markdown",
   "metadata": {},
   "source": [
    "We use the f string in order to make inserting variables inside strings more easy and elegant "
   ]
  },
  {
   "cell_type": "markdown",
   "metadata": {},
   "source": [
    "in order to use the f string all you have to do is put an f before the ' in the string and to put a variable in the string we put them inside {}"
   ]
  },
  {
   "cell_type": "code",
   "execution_count": 1,
   "metadata": {
    "scrolled": true
   },
   "outputs": [
    {
     "name": "stdout",
     "output_type": "stream",
     "text": [
      "INSERT INTO members (first_name, last_name, age) VALUES (el mehdi, soummer, 21)\n",
      "INSERT INTO members (first_name, last_name, age) VALUES (el mehdi, soummer, 21)\n"
     ]
    }
   ],
   "source": [
    "# for example let's say we want to write an sql query to insert value into our table\n",
    "first_name, last_name, age = 'el mehdi', 'soummer', 21\n",
    "\n",
    "# not using f string \n",
    "query1 = 'INSERT INTO members (first_name, last_name, age) VALUES ('+ first_name + ', ' + last_name + ', ' + str(age) + ')'\n",
    "\n",
    "# using f string\n",
    "query2 = f'INSERT INTO members (first_name, last_name, age) VALUES ({first_name}, {last_name}, {age})'\n",
    "\n",
    "print(query1)\n",
    "print(query2)"
   ]
  },
  {
   "cell_type": "code",
   "execution_count": 1,
   "metadata": {},
   "outputs": [
    {
     "name": "stdout",
     "output_type": "stream",
     "text": [
      "\\n hello\n",
      "\n",
      "  hello\n"
     ]
    }
   ],
   "source": [
    "s = r'\\n hello'\n",
    "print(s)\n",
    "s = 'c\\\\new'\n",
    "print(s)"
   ]
  },
  {
   "cell_type": "code",
   "execution_count": 5,
   "metadata": {},
   "outputs": [
    {
     "data": {
      "text/plain": [
       "['smauj@gmail.com', 'smauj@gmail.com']"
      ]
     },
     "execution_count": 5,
     "metadata": {},
     "output_type": "execute_result"
    }
   ],
   "source": [
    "import re \n",
    "\n",
    "numbers = re.compile(r'06\\d{8}')\n",
    "emails  = re.compile(r'[a-z]+@gmail.com')\n",
    "\n",
    "s = 'my number is 0613546984 and 4513546984 and my email is smauj@gmail.com and smauj@gmail.com'\n",
    "\n",
    "numbers.findall(s)\n",
    "emails.findall(s)"
   ]
  },
  {
   "cell_type": "code",
   "execution_count": 8,
   "metadata": {},
   "outputs": [
    {
     "name": "stdout",
     "output_type": "stream",
     "text": [
      "first number is 16 second is 51 third is 6 and True\n",
      "Hello World !\n",
      "Hello World !\n",
      "Hello World !\n",
      "Hello World !\n",
      "Hello World !\n",
      "Hello World !\n",
      "Hello World !\n",
      "Hello World !\n",
      "Hello World !\n",
      "Hello World !\n"
     ]
    }
   ],
   "source": [
    "from random import randint\n",
    "\n",
    "a,b,c = [randint(5,99) for _ in range(3)]\n",
    "d = True\n",
    "print(f'first number is {a} second is {b} third is {c} and {d}')\n",
    "\n",
    "for _ in range(10):\n",
    "    print('Hello World !')"
   ]
  },
  {
   "cell_type": "markdown",
   "metadata": {},
   "source": [
    "### 2. split"
   ]
  },
  {
   "cell_type": "markdown",
   "metadata": {},
   "source": [
    "split is a string methode that returns a list os the string but devided on the separator included as first argument (the seperator not included)"
   ]
  },
  {
   "cell_type": "code",
   "execution_count": 9,
   "metadata": {},
   "outputs": [
    {
     "name": "stdout",
     "output_type": "stream",
     "text": [
      "['Hello', 'World', '!']\n",
      "['Hello', 'World', '!']\n",
      "['Hello', 'World', '!']\n",
      "['He', 'o World !']\n"
     ]
    }
   ],
   "source": [
    "a = 'Hello World !'\n",
    "b = 'Hello,World,!'\n",
    "\n",
    "print(a.split(' ')) # no argument will split based on every white space (space and new line)\n",
    "print(a.split())\n",
    "print(b.split(',')) \n",
    "print(a.split('ll'))"
   ]
  },
  {
   "cell_type": "code",
   "execution_count": 11,
   "metadata": {},
   "outputs": [
    {
     "name": "stdout",
     "output_type": "stream",
     "text": [
      "hello world 564\n",
      "hello\n",
      "world\n",
      "564\n"
     ]
    }
   ],
   "source": [
    "a,b,c = input().split()\n",
    "print(a)\n",
    "print(b)\n",
    "print(c)"
   ]
  },
  {
   "cell_type": "markdown",
   "metadata": {},
   "source": [
    "### 3. replace"
   ]
  },
  {
   "cell_type": "markdown",
   "metadata": {},
   "source": [
    "str.replace(target, change) changes the target with the value of change"
   ]
  },
  {
   "cell_type": "code",
   "execution_count": 12,
   "metadata": {
    "scrolled": true
   },
   "outputs": [
    {
     "name": "stdout",
     "output_type": "stream",
     "text": [
      "Hello World !\n",
      "Hello Smauj !\n"
     ]
    }
   ],
   "source": [
    "a = 'Hello World !'\n",
    "print(a)\n",
    "print(a.replace('World', 'Smauj'))"
   ]
  },
  {
   "cell_type": "code",
   "execution_count": 2,
   "metadata": {
    "scrolled": false
   },
   "outputs": [
    {
     "name": "stdout",
     "output_type": "stream",
     "text": [
      "Welcome to INSEA innovation edge, what is INSEA innovation edge?\n"
     ]
    }
   ],
   "source": [
    "a = 'Welcome to iie, what is iie?'\n",
    "\n",
    "print(a.replace('iie', 'INSEA innovation edge'))"
   ]
  },
  {
   "cell_type": "markdown",
   "metadata": {},
   "source": [
    "### 4. str to int"
   ]
  },
  {
   "cell_type": "markdown",
   "metadata": {},
   "source": [
    "the second argument of int() is the base of the number by default it is 10 "
   ]
  },
  {
   "cell_type": "code",
   "execution_count": 1,
   "metadata": {},
   "outputs": [
    {
     "name": "stdout",
     "output_type": "stream",
     "text": [
      "100 in base 2  is 4\n",
      "100 in base 4  is 16\n",
      "100 in base 8  is 64\n",
      "100 in base 10 is 100\n",
      "100 in base 16 is 256\n"
     ]
    }
   ],
   "source": [
    "n = '100'\n",
    "# int(str, base*)\n",
    "print(f'100 in base 2  is {int(n,2)}')\n",
    "print(f'100 in base 4  is {int(n,4)}')\n",
    "print(f'100 in base 8  is {int(n,8)}')\n",
    "print(f'100 in base 10 is {int(n,10)}')\n",
    "print(f'100 in base 16 is {int(n,16)}')"
   ]
  },
  {
   "cell_type": "markdown",
   "metadata": {},
   "source": [
    "# <font color=blue>II- Lists</font>"
   ]
  },
  {
   "cell_type": "markdown",
   "metadata": {},
   "source": [
    "### 1. slicing "
   ]
  },
  {
   "cell_type": "code",
   "execution_count": 16,
   "metadata": {
    "scrolled": true
   },
   "outputs": [
    {
     "name": "stdout",
     "output_type": "stream",
     "text": [
      "5 the 6th element in the list\n",
      "[2, 3, 4, 5, 6, 7, 8, 9] the list starting from the 2nd element\n",
      "[0, 1, 2, 3, 4, 5, 6, 7] the list ending in the 7th element the 8th not included\n",
      "[2, 3, 4, 5, 6, 7] the list [|2,8|[\n",
      "[0, 2, 4, 6, 8] the list of even numbers the third argument indicates the step\n",
      "[0, 3, 6, 9] the list of numbers devided by 3\n",
      "[0, 2, 4, 6, 8] not including the 1st and 2nd arguments it will use the hole list\n",
      "[9, 8, 7, 6, 5, 4, 3, 2, 1, 0] reversing the list\n",
      "[0, 1, 2, 3, 4, 5, 6, 7, 8, 9]\n"
     ]
    }
   ],
   "source": [
    "nums = [0, 1, 2, 3, 4, 5, 6, 7, 8, 9]\n",
    "\n",
    "print(nums[5], 'the 6th element in the list')\n",
    "print(nums[2:], 'the list starting from the 2nd element')\n",
    "print(nums[:8], 'the list ending in the 7th element the 8th not included')\n",
    "print(nums[2:8], 'the list [|2,8|[')\n",
    "print(nums[0:10:2], 'the list of even numbers the third argument indicates the step')\n",
    "print(nums[0:10:3], 'the list of numbers devided by 3')\n",
    "print(nums[::2], 'not including the 1st and 2nd arguments it will use the hole list')\n",
    "print(nums[::-1], 'reversing the list')\n",
    "print(nums) # list[start:end:step]"
   ]
  },
  {
   "cell_type": "code",
   "execution_count": 17,
   "metadata": {},
   "outputs": [
    {
     "name": "stdout",
     "output_type": "stream",
     "text": [
      "None\n",
      "[9, 8, 7, 6, 5, 4, 3, 2, 1, 0]\n"
     ]
    }
   ],
   "source": [
    "nums = [0, 1, 2, 3, 4, 5, 6, 7, 8, 9]\n",
    "print(nums.reverse())\n",
    "print(nums)"
   ]
  },
  {
   "cell_type": "code",
   "execution_count": 15,
   "metadata": {},
   "outputs": [
    {
     "name": "stdout",
     "output_type": "stream",
     "text": [
      "9\n",
      "7\n",
      "5\n",
      "3\n",
      "1\n"
     ]
    }
   ],
   "source": [
    "for i in  range(0,10,2):\n",
    "    print(nums[i])"
   ]
  },
  {
   "cell_type": "markdown",
   "metadata": {},
   "source": [
    "the first argument of the slicing must be in the range, the second doesn't have to be "
   ]
  },
  {
   "cell_type": "markdown",
   "metadata": {},
   "source": [
    "### 2. sorted "
   ]
  },
  {
   "cell_type": "code",
   "execution_count": 18,
   "metadata": {},
   "outputs": [
    {
     "name": "stdout",
     "output_type": "stream",
     "text": [
      "[(0, 1), (2, 0), (3, 1), (4, 0)]\n",
      "[(2, 0), (4, 0), (0, 1), (3, 1)]\n",
      "[(0, 1), (3, 1), (2, 0), (4, 0)]\n"
     ]
    }
   ],
   "source": [
    "nums = [(0,1), (2,0), (3,1), (4,0)]\n",
    "\n",
    "print(sorted(nums))\n",
    "print(sorted(nums, key = lambda x: x[1])) # sorts the list based on the second argument first\n",
    "print(sorted(nums, key = lambda x: x[1], reverse = True)) # sorts the list based on the second argument first in descending order"
   ]
  },
  {
   "cell_type": "code",
   "execution_count": 2,
   "metadata": {
    "scrolled": true
   },
   "outputs": [
    {
     "name": "stdout",
     "output_type": "stream",
     "text": [
      "[(2, 0), (4, 0), (0, 1), (3, 1)]\n",
      "[(0, 1), (3, 1), (2, 0), (4, 0)]\n"
     ]
    }
   ],
   "source": [
    "nums = [(0,1), (2,0), (3,1), (4,0)]\n",
    "\n",
    "def second(x):\n",
    "    return x[1]\n",
    "\n",
    "# sorted(list, key= func)\n",
    "print(sorted(nums, key = second)) # sorts the list based on the second argument first\n",
    "print(sorted(nums, key = second, reverse = True)) # sorts the list based on the second argument first in descending order"
   ]
  },
  {
   "cell_type": "code",
   "execution_count": 19,
   "metadata": {},
   "outputs": [
    {
     "name": "stdout",
     "output_type": "stream",
     "text": [
      "11\n"
     ]
    }
   ],
   "source": [
    "arr = range(10)\n",
    "def elt(x):\n",
    "    return elt[5]\n",
    "\n",
    "f = lambda x: x[5]\n",
    "print(f(5,6))"
   ]
  },
  {
   "cell_type": "markdown",
   "metadata": {},
   "source": [
    "### 3. map"
   ]
  },
  {
   "cell_type": "markdown",
   "metadata": {},
   "source": [
    "map(function, iterable) applies the function on every element in the iterable, pay attention it returns a map object not the same type of the iterable"
   ]
  },
  {
   "cell_type": "code",
   "execution_count": 22,
   "metadata": {
    "scrolled": true
   },
   "outputs": [],
   "source": [
    "arr = map(int,['0','1','2','3']) # just to show the type it returns "
   ]
  },
  {
   "cell_type": "code",
   "execution_count": 2,
   "metadata": {
    "scrolled": true
   },
   "outputs": [
    {
     "name": "stdout",
     "output_type": "stream",
     "text": [
      "[0, 1, 2, 3]\n"
     ]
    }
   ],
   "source": [
    "print(list(map(int,['0','1','2','3']))) # just to show the type it returns "
   ]
  },
  {
   "cell_type": "code",
   "execution_count": 21,
   "metadata": {
    "scrolled": true
   },
   "outputs": [
    {
     "name": "stdout",
     "output_type": "stream",
     "text": [
      "[1, 2, 3, 4]\n"
     ]
    }
   ],
   "source": [
    "print(list(map(lambda x: x+1, [0, 1, 2, 3])))"
   ]
  },
  {
   "cell_type": "code",
   "execution_count": 35,
   "metadata": {
    "scrolled": true
   },
   "outputs": [
    {
     "name": "stdout",
     "output_type": "stream",
     "text": [
      "[8, 17, 27, 18]\n"
     ]
    }
   ],
   "source": [
    "def f(x):\n",
    "    if x%2 == 0:\n",
    "        return f'{x} devided by 2'\n",
    "    return f'{x} is odd'\n",
    "\n",
    "print(list(map(lambda x,y,z: x+y+z, [0,5,9,6],[4,6,9,6,8],[4,6,9,6,9])))"
   ]
  },
  {
   "cell_type": "code",
   "execution_count": 25,
   "metadata": {},
   "outputs": [
    {
     "name": "stdout",
     "output_type": "stream",
     "text": [
      "5.6 8 9\n",
      "5.6 8.0 9.0\n"
     ]
    }
   ],
   "source": [
    "a,b,c = map(float, input().split())\n",
    "print(a,b,c)"
   ]
  },
  {
   "cell_type": "markdown",
   "metadata": {},
   "source": [
    "### 4. unpacking"
   ]
  },
  {
   "cell_type": "code",
   "execution_count": 1,
   "metadata": {
    "scrolled": true
   },
   "outputs": [
    {
     "name": "stdout",
     "output_type": "stream",
     "text": [
      "1 2 3 first way\n",
      "1 2 3 second way\n"
     ]
    }
   ],
   "source": [
    "nums  = range(1,4)\n",
    "# first method\n",
    "a,b,c = nums[0],nums[1],nums[2]\n",
    "print(a,b,c,'first way')\n",
    "#or directly\n",
    "a,b,c = nums\n",
    "print(a,b,c,'second way')"
   ]
  },
  {
   "cell_type": "markdown",
   "metadata": {},
   "source": [
    "### 5. comprehension"
   ]
  },
  {
   "cell_type": "code",
   "execution_count": 1,
   "metadata": {},
   "outputs": [
    {
     "name": "stdout",
     "output_type": "stream",
     "text": [
      "['0', '1', '2', '3', '4', '5', '6', '7', '8', '9']\n"
     ]
    }
   ],
   "source": [
    "print([str(i) for i in range(10)]) # simple comprehension"
   ]
  },
  {
   "cell_type": "code",
   "execution_count": 2,
   "metadata": {},
   "outputs": [
    {
     "name": "stdout",
     "output_type": "stream",
     "text": [
      "['0', '2', '4', '6', '8']\n"
     ]
    }
   ],
   "source": [
    "print([str(i) for i in range(10) if i%2 == 0]) # conditional comprehension"
   ]
  },
  {
   "cell_type": "code",
   "execution_count": 3,
   "metadata": {},
   "outputs": [
    {
     "name": "stdout",
     "output_type": "stream",
     "text": [
      "[1, 2, 3, 4, 5, 6, 7, 8, 9]\n"
     ]
    }
   ],
   "source": [
    "A = [[1,2,3],[4,5,6],[7,8,9]]\n",
    "\n",
    "# pass from 2D to 1D\n",
    "\n",
    "print([x for line in A for x in line]) "
   ]
  },
  {
   "cell_type": "code",
   "execution_count": 4,
   "metadata": {},
   "outputs": [
    {
     "name": "stdout",
     "output_type": "stream",
     "text": [
      "[4, 5, 6, 7, 8, 9]\n"
     ]
    }
   ],
   "source": [
    "A = [[1,2,3],[4,5,6],[7,8,9]]\n",
    "\n",
    "# pass from 2D to 1D\n",
    "\n",
    "print([x for line in A \n",
    "         for x in line \n",
    "         if line[0] != 1])"
   ]
  },
  {
   "cell_type": "code",
   "execution_count": 40,
   "metadata": {},
   "outputs": [
    {
     "name": "stdout",
     "output_type": "stream",
     "text": [
      "[0, 0, 0, 0, 0, 0, 0, 0, 0, 0, 0, 1, 4, 9, 16, 25, 36, 49, 64, 81]\n"
     ]
    }
   ],
   "source": [
    "print([i**2 if i>0 else 0 \n",
    "       for i in range(-10,10)])"
   ]
  },
  {
   "cell_type": "markdown",
   "metadata": {},
   "source": [
    "### 6. enumerate"
   ]
  },
  {
   "cell_type": "markdown",
   "metadata": {},
   "source": [
    "enumerate(iterable) returns a list of a tuple of the form (index, element) when you make it a list, else it is a enumerate object "
   ]
  },
  {
   "cell_type": "code",
   "execution_count": 1,
   "metadata": {},
   "outputs": [
    {
     "name": "stdout",
     "output_type": "stream",
     "text": [
      "[(0, 'H'), (1, 'e'), (2, 'l'), (3, 'l'), (4, 'o'), (5, '!')]\n"
     ]
    }
   ],
   "source": [
    "s = 'Hello!'\n",
    "\n",
    "print(list(enumerate(s)))"
   ]
  },
  {
   "cell_type": "code",
   "execution_count": 2,
   "metadata": {},
   "outputs": [
    {
     "name": "stdout",
     "output_type": "stream",
     "text": [
      "0 H\n",
      "1 e\n",
      "2 l\n",
      "3 l\n",
      "4 o\n",
      "5 !\n"
     ]
    }
   ],
   "source": [
    "s = 'Hello!'\n",
    "\n",
    "for index, elt in enumerate(s): # unpacking in the for loop and works also in the comprehension\n",
    "    print(index, elt)\n"
   ]
  },
  {
   "cell_type": "markdown",
   "metadata": {},
   "source": [
    "# <font color=blue>III- Dicts</font>"
   ]
  },
  {
   "cell_type": "markdown",
   "metadata": {},
   "source": [
    "### 1. dict.keys"
   ]
  },
  {
   "cell_type": "markdown",
   "metadata": {},
   "source": [
    "item.keys() returns a list of the dict keys "
   ]
  },
  {
   "cell_type": "code",
   "execution_count": 1,
   "metadata": {},
   "outputs": [
    {
     "name": "stdout",
     "output_type": "stream",
     "text": [
      "dict_keys(['a', 'b', 'd', 'e', 'f'])\n"
     ]
    }
   ],
   "source": [
    "d = {'a':7,'b':1,'d':8,'e':4,'f':3}\n",
    "print(d.keys())"
   ]
  },
  {
   "cell_type": "code",
   "execution_count": 36,
   "metadata": {},
   "outputs": [
    {
     "name": "stdout",
     "output_type": "stream",
     "text": [
      "5 + 6\n",
      "11\n"
     ]
    }
   ],
   "source": [
    "operations = {'+': lambda x,y: x+y , '-' :lambda x,y: x-y, '*': lambda x,y: x*y , '/' :lambda x,y: x/y}\n",
    "\n",
    "a,opp,b = input().split()\n",
    "\n",
    "print(operations[opp](int(a),int(b)))"
   ]
  },
  {
   "cell_type": "markdown",
   "metadata": {},
   "source": [
    "### 2. dict.get"
   ]
  },
  {
   "cell_type": "code",
   "execution_count": 41,
   "metadata": {},
   "outputs": [
    {
     "name": "stdout",
     "output_type": "stream",
     "text": [
      "{'a': 8, 'b': 2, 'd': 9, 'e': 5, 'f': 4, 'c': 1}\n"
     ]
    }
   ],
   "source": [
    "# what does get do\n",
    "\n",
    "d = {'a':7,'b':1,'d':8,'e':4,'f':3}\n",
    "\n",
    "for i in 'abcdef':\n",
    "    if i in d.keys():\n",
    "        d[i] += 1\n",
    "    else:\n",
    "        d[i] = 1\n",
    "    \n",
    "print(d)"
   ]
  },
  {
   "cell_type": "code",
   "execution_count": 38,
   "metadata": {},
   "outputs": [
    {
     "name": "stdout",
     "output_type": "stream",
     "text": [
      "{'a': 8, 'b': 2, 'c': 0, 'd': 9, 'e': 5, 'f': 4}\n"
     ]
    }
   ],
   "source": [
    "d = {'a':7,'b':1,'d':8,'e':4,'f':3}\n",
    "\n",
    "# dict.get(key, default)\n",
    "d = {i: d.get(i,-1)+1 for i in 'abcdef'}\n",
    "\n",
    "print(d)"
   ]
  },
  {
   "cell_type": "markdown",
   "metadata": {},
   "source": [
    "dict.get(key, default) if key exist in the dict it will give its value else it will return the default "
   ]
  },
  {
   "cell_type": "markdown",
   "metadata": {},
   "source": [
    "# <font color=blue>IV- Sets</font>"
   ]
  },
  {
   "cell_type": "markdown",
   "metadata": {},
   "source": [
    "### 1. set.add"
   ]
  },
  {
   "cell_type": "markdown",
   "metadata": {},
   "source": [
    "set.add adds an element to the set if it doesn't exist"
   ]
  },
  {
   "cell_type": "code",
   "execution_count": 1,
   "metadata": {},
   "outputs": [
    {
     "name": "stdout",
     "output_type": "stream",
     "text": [
      "[12, 7, 12, 10, 9, 1, 1, 5, 7, 10, 2, 2, 16, 5, 2, 14, 3, 13, 8, 12]\n",
      "{1, 2, 3, 5, 7, 8, 9, 10, 12, 13, 14, 16}\n",
      "{1, 2, 3, 5, 7, 8, 9, 10, 12, 13, 14, 16}\n"
     ]
    }
   ],
   "source": [
    "from random import randint \n",
    "\n",
    "arr = [randint(1,16) for i in range(20)]\n",
    "\n",
    "print(arr)\n",
    "\n",
    "arr = set(arr)\n",
    "print(arr)\n",
    "\n",
    "# list + [8]\n",
    "arr.add(8)\n",
    "print(arr)"
   ]
  },
  {
   "cell_type": "markdown",
   "metadata": {},
   "source": [
    "### 2. set.update"
   ]
  },
  {
   "cell_type": "markdown",
   "metadata": {},
   "source": [
    "set.update adds elements in a list passed as argument to the set if it doesn't exist"
   ]
  },
  {
   "cell_type": "code",
   "execution_count": 43,
   "metadata": {},
   "outputs": [
    {
     "name": "stdout",
     "output_type": "stream",
     "text": [
      "[7, 7, 7, 12, 12, 12, 3, 12, 5, 10, 9, 8, 16, 6, 10, 15, 4, 2, 14, 3]\n",
      "{2, 3, 4, 5, 6, 7, 8, 9, 10, 12, 14, 15, 16}\n",
      "{1, 2, 3, 4, 5, 6, 7, 8, 9, 10, 11, 12, 13, 14, 15, 16}\n",
      "<class 'range'>\n"
     ]
    }
   ],
   "source": [
    "from random import randint \n",
    "\n",
    "arr = [randint(1,16) for i in range(20)]\n",
    "\n",
    "print(arr)\n",
    "\n",
    "arr = set(arr)\n",
    "print(arr)\n",
    "\n",
    "arr.update(range(1,17))\n",
    "print(arr)\n",
    "print(type(range(1,17)))"
   ]
  }
 ],
 "metadata": {
  "kernelspec": {
   "display_name": "Python 3.8.2 64-bit",
   "language": "python",
   "name": "python38264bitcae2f99bbad9429db7c2027050667ae9"
  },
  "language_info": {
   "codemirror_mode": {
    "name": "ipython",
    "version": 3
   },
   "file_extension": ".py",
   "mimetype": "text/x-python",
   "name": "python",
   "nbconvert_exporter": "python",
   "pygments_lexer": "ipython3",
   "version": "3.8.2"
  }
 },
 "nbformat": 4,
 "nbformat_minor": 2
}
